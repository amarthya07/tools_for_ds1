{
 "cells": [
  {
   "cell_type": "markdown",
   "id": "00266b6b",
   "metadata": {},
   "source": [
    "# Tools for data science"
   ]
  },
  {
   "cell_type": "markdown",
   "id": "3c087958",
   "metadata": {},
   "source": [
    "* Hello everybody! This is my first attempt at github. The entire version control aspect of programming seemed to be incredibly daunting for me, so I'm using this assignment to conquour my fear and get better!*"
   ]
  },
  {
   "cell_type": "markdown",
   "id": "41c3066c",
   "metadata": {},
   "source": [
    "### There are many languages used for data science but I shall list few of them down:\n",
    "1. Python\n",
    "2. R\n",
    "3. SQL\n",
    "4. Julia\n",
    "5. Scala\n",
    "6. SAS(Statistical Analysis System)\n",
    "7. MATLAB"
   ]
  },
  {
   "cell_type": "markdown",
   "id": "9e114679",
   "metadata": {},
   "source": [
    " ## List of data science libraries:\n",
    " \n",
    "### 1) Python:\n",
    "\n",
    "1. NumPy\n",
    "2. Pandas\n",
    "3. Matplotlib\n",
    "4. scikit-learn\n",
    "5. TensorFlow\n",
    "6. Keras\n",
    "\n",
    "### 2) R:\n",
    "1. dplyr\n",
    "2. ggplot2\n",
    "3. caret\n",
    "4. tidyr\n",
    "5. glmnet"
   ]
  },
  {
   "cell_type": "markdown",
   "id": "d4d0ad71",
   "metadata": {},
   "source": [
    "## Table of Data Science Tools are:\n",
    "\n",
    "| S.no | Tool | \n",
    "| :- | -: |\n",
    "| 1. | Python |\n",
    "| 2. | R |\n",
    "| 3. | SQL |\n",
    "| 4. | Jupyter Notebook/lab |\n",
    "| 5. | Apache Spark |\n",
    "| 6. | Tableau |\n",
    "| 7. | Power BI |\n",
    "| 8. | KNIME |\n",
    "| 9. | SAS |\n",
    "| 10. | MATLAB |\n",
    "\n"
   ]
  },
  {
   "cell_type": "markdown",
   "id": "210dd196",
   "metadata": {},
   "source": [
    "### Arithmetic expression: \n",
    "\n",
    "$\\hat{Y} = \\hat{\\beta}_{0} + \\sum \\limits _{j=1} ^{p} X_{j}\\hat{\\beta}_{j} $\n"
   ]
  },
  {
   "cell_type": "code",
   "execution_count": 4,
   "id": "b59b6a3b",
   "metadata": {},
   "outputs": [
    {
     "name": "stdout",
     "output_type": "stream",
     "text": [
      "19\n"
     ]
    }
   ],
   "source": [
    "\n",
    "print(4+(3*5))"
   ]
  },
  {
   "cell_type": "code",
   "execution_count": 3,
   "id": "d90631bc",
   "metadata": {},
   "outputs": [
    {
     "name": "stdout",
     "output_type": "stream",
     "text": [
      "Please enter minutes value: 30\n",
      "0.5  Hours\n"
     ]
    }
   ],
   "source": [
    "a = int(input(\"Please enter minutes value: \"))\n",
    "print(a/60,\" Hours\")"
   ]
  },
  {
   "cell_type": "markdown",
   "id": "09a01c1f",
   "metadata": {},
   "source": [
    "## Objectives:\n",
    "1. To create a markdown cell with the title of the notebook. \n",
    "2. To create a markdown cell for an introduction.\n",
    "3. To create a markdown cell to list data science languages.\n",
    "4. To create a markdown cell to list data science libraries.\n",
    "5. To create  a markdown cell with a table of Data Science tools.\n",
    "6. To create  a markdown cell introducing arithmetic expression examples. \n",
    "7. To create a code cell to multiply and add numbers\n",
    "8. To create a code cell to convert minutes to hours.\n",
    "\n",
    "\n"
   ]
  },
  {
   "cell_type": "markdown",
   "id": "28c3ab32",
   "metadata": {},
   "source": [
    "### Author: Amarthya Dutta Gupta"
   ]
  },
  {
   "cell_type": "code",
   "execution_count": null,
   "id": "9e27b6cc",
   "metadata": {},
   "outputs": [],
   "source": []
  }
 ],
 "metadata": {
  "kernelspec": {
   "display_name": "Python 3 (ipykernel)",
   "language": "python",
   "name": "python3"
  },
  "language_info": {
   "codemirror_mode": {
    "name": "ipython",
    "version": 3
   },
   "file_extension": ".py",
   "mimetype": "text/x-python",
   "name": "python",
   "nbconvert_exporter": "python",
   "pygments_lexer": "ipython3",
   "version": "3.9.13"
  }
 },
 "nbformat": 4,
 "nbformat_minor": 5
}
